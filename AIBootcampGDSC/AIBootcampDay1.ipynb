{
  "nbformat": 4,
  "nbformat_minor": 0,
  "metadata": {
    "colab": {
      "provenance": [],
      "collapsed_sections": [
        "j9158-QIti1s",
        "MeoPI3qHvM7D",
        "Q5cmnWID6mkE",
        "ibh-Y_709Coa",
        "-fCUWVsGDU1S",
        "UfLhUnbaTWKy",
        "Jf0BfVTbTjVK"
      ],
      "toc_visible": true
    },
    "kernelspec": {
      "name": "python3",
      "display_name": "Python 3"
    },
    "language_info": {
      "name": "python"
    }
  },
  "cells": [
    {
      "cell_type": "markdown",
      "source": [
        "# **Veri Yapıları (Data Structures)**\n",
        "* Karakter Dizileri (Strings)\n",
        "* Sayılar (Integer, Float)\n",
        "* Boolean (True-False)\n",
        "* Listeler (List)\n",
        "* Sözlükler (Dict)\n",
        "* Demetler (Tuple)\n",
        "* Kümeler (Set) "
      ],
      "metadata": {
        "id": "j9158-QIti1s"
      }
    },
    {
      "cell_type": "markdown",
      "source": [
        "## **Karakter Dizileri (Strings)**"
      ],
      "metadata": {
        "id": "N5YHZWSa4q1e"
      }
    },
    {
      "cell_type": "code",
      "execution_count": 434,
      "metadata": {
        "colab": {
          "base_uri": "https://localhost:8080/",
          "height": 36
        },
        "id": "VlFHU6hIlkPv",
        "outputId": "b565a30f-e809-4034-aa67-7812997170de"
      },
      "outputs": [
        {
          "output_type": "execute_result",
          "data": {
            "text/plain": [
              "'inonu universitesi'"
            ],
            "application/vnd.google.colaboratory.intrinsic+json": {
              "type": "string"
            }
          },
          "metadata": {},
          "execution_count": 434
        }
      ],
      "source": [
        "\"inonu universitesi\""
      ]
    },
    {
      "cell_type": "code",
      "source": [
        "\"'inonu' universitesi\""
      ],
      "metadata": {
        "colab": {
          "base_uri": "https://localhost:8080/",
          "height": 36
        },
        "id": "xC3ASxQIlqYY",
        "outputId": "799f8ca5-f0a6-465f-a2d0-c4d470a72967"
      },
      "execution_count": 435,
      "outputs": [
        {
          "output_type": "execute_result",
          "data": {
            "text/plain": [
              "\"'inonu' universitesi\""
            ],
            "application/vnd.google.colaboratory.intrinsic+json": {
              "type": "string"
            }
          },
          "metadata": {},
          "execution_count": 435
        }
      ]
    },
    {
      "cell_type": "code",
      "source": [
        "\"\"\"inonu universitesi Google Developer Student Clubs Yapay Zeka Bootcamp birinci gün\n",
        " konumuz Python'a giris, veri yapilari... \"\"\""
      ],
      "metadata": {
        "colab": {
          "base_uri": "https://localhost:8080/",
          "height": 36
        },
        "id": "jMh_OW0nlqbR",
        "outputId": "a570fb3c-32e7-45e9-99e6-7760711d8c81"
      },
      "execution_count": 436,
      "outputs": [
        {
          "output_type": "execute_result",
          "data": {
            "text/plain": [
              "\"inonu universitesi Google Developer Student Clubs Yapay Zeka Bootcamp birinci gün\\n konumuz Python'a giris, veri yapilari... \""
            ],
            "application/vnd.google.colaboratory.intrinsic+json": {
              "type": "string"
            }
          },
          "metadata": {},
          "execution_count": 436
        }
      ]
    },
    {
      "cell_type": "markdown",
      "source": [
        "### **Değişkene atama işlemi**"
      ],
      "metadata": {
        "id": "Rcxecn9T7Gcj"
      }
    },
    {
      "cell_type": "code",
      "source": [
        "ders = \"python\""
      ],
      "metadata": {
        "id": "8Nu78PhTr8vO"
      },
      "execution_count": 437,
      "outputs": []
    },
    {
      "cell_type": "code",
      "source": [
        "icerik = \"\"\"inonu universitesi Google Developer Student Clubs Yapay Zeka Bootcamp birinci gün\n",
        "konumuz Python'a giris, veri yapilari... \"\"\""
      ],
      "metadata": {
        "id": "CdJOpZ2P7tgU"
      },
      "execution_count": 438,
      "outputs": []
    },
    {
      "cell_type": "markdown",
      "source": [
        "### **Yazdırma işlemi**"
      ],
      "metadata": {
        "id": "KjK2-5Kb7bg5"
      }
    },
    {
      "cell_type": "code",
      "source": [
        "ders"
      ],
      "metadata": {
        "colab": {
          "base_uri": "https://localhost:8080/",
          "height": 36
        },
        "id": "y7ErRh5mr806",
        "outputId": "ede4532c-1672-472e-8832-f958e4eabd2b"
      },
      "execution_count": 439,
      "outputs": [
        {
          "output_type": "execute_result",
          "data": {
            "text/plain": [
              "'python'"
            ],
            "application/vnd.google.colaboratory.intrinsic+json": {
              "type": "string"
            }
          },
          "metadata": {},
          "execution_count": 439
        }
      ]
    },
    {
      "cell_type": "code",
      "source": [
        "print(ders)"
      ],
      "metadata": {
        "colab": {
          "base_uri": "https://localhost:8080/"
        },
        "id": "ATaLiPi6r831",
        "outputId": "57ae482f-4514-49c7-f402-9ab7c3c8f7b8"
      },
      "execution_count": 440,
      "outputs": [
        {
          "output_type": "stream",
          "name": "stdout",
          "text": [
            "python\n"
          ]
        }
      ]
    },
    {
      "cell_type": "code",
      "source": [
        "print(icerik)"
      ],
      "metadata": {
        "colab": {
          "base_uri": "https://localhost:8080/"
        },
        "id": "f-CPG-Vlr86F",
        "outputId": "4127e8c8-2b64-40de-c5bf-efd4314442ea"
      },
      "execution_count": 441,
      "outputs": [
        {
          "output_type": "stream",
          "name": "stdout",
          "text": [
            "inonu universitesi Google Developer Student Clubs Yapay Zeka Bootcamp birinci gün\n",
            "konumuz Python'a giris, veri yapilari... \n"
          ]
        }
      ]
    },
    {
      "cell_type": "code",
      "source": [
        "print(ders, \"programlama\")"
      ],
      "metadata": {
        "colab": {
          "base_uri": "https://localhost:8080/"
        },
        "id": "0igZt4LW790p",
        "outputId": "4da721a7-2052-480d-d863-cb8b020c0cde"
      },
      "execution_count": 442,
      "outputs": [
        {
          "output_type": "stream",
          "name": "stdout",
          "text": [
            "python programlama\n"
          ]
        }
      ]
    },
    {
      "cell_type": "code",
      "source": [
        "print(ders + \" programlama\")"
      ],
      "metadata": {
        "colab": {
          "base_uri": "https://localhost:8080/"
        },
        "id": "gDZBzYOs8NrT",
        "outputId": "1e3d0ba4-52fa-469a-9a5f-a8cb734018b2"
      },
      "execution_count": 443,
      "outputs": [
        {
          "output_type": "stream",
          "name": "stdout",
          "text": [
            "python programlama\n"
          ]
        }
      ]
    },
    {
      "cell_type": "code",
      "source": [
        "print(\"Yapay\")\n",
        "print(\"Zeka\")"
      ],
      "metadata": {
        "colab": {
          "base_uri": "https://localhost:8080/"
        },
        "id": "KYrcsL4LCB9x",
        "outputId": "73b981bf-ce1e-414b-e01e-347eeb05f96b"
      },
      "execution_count": 444,
      "outputs": [
        {
          "output_type": "stream",
          "name": "stdout",
          "text": [
            "Yapay\n",
            "Zeka\n"
          ]
        }
      ]
    },
    {
      "cell_type": "markdown",
      "source": [
        "### **Stringlerde elemanlara erişmek**"
      ],
      "metadata": {
        "id": "k74_ejza8cUE"
      }
    },
    {
      "cell_type": "code",
      "source": [
        "ders[0]"
      ],
      "metadata": {
        "colab": {
          "base_uri": "https://localhost:8080/",
          "height": 36
        },
        "id": "_NkV0N1H8RLD",
        "outputId": "962c9355-545e-44bf-c2a5-68c3af688066"
      },
      "execution_count": 445,
      "outputs": [
        {
          "output_type": "execute_result",
          "data": {
            "text/plain": [
              "'p'"
            ],
            "application/vnd.google.colaboratory.intrinsic+json": {
              "type": "string"
            }
          },
          "metadata": {},
          "execution_count": 445
        }
      ]
    },
    {
      "cell_type": "code",
      "source": [
        "ders[3]"
      ],
      "metadata": {
        "colab": {
          "base_uri": "https://localhost:8080/",
          "height": 36
        },
        "id": "OTjVPwjB8lXA",
        "outputId": "be7f10dc-8733-420a-bf55-3a54bb54831f"
      },
      "execution_count": 446,
      "outputs": [
        {
          "output_type": "execute_result",
          "data": {
            "text/plain": [
              "'h'"
            ],
            "application/vnd.google.colaboratory.intrinsic+json": {
              "type": "string"
            }
          },
          "metadata": {},
          "execution_count": 446
        }
      ]
    },
    {
      "cell_type": "code",
      "source": [
        "ders[5]"
      ],
      "metadata": {
        "colab": {
          "base_uri": "https://localhost:8080/",
          "height": 36
        },
        "id": "T3ydZVrg8r89",
        "outputId": "b512abf7-6a6d-48a3-cde7-95192e319138"
      },
      "execution_count": 447,
      "outputs": [
        {
          "output_type": "execute_result",
          "data": {
            "text/plain": [
              "'n'"
            ],
            "application/vnd.google.colaboratory.intrinsic+json": {
              "type": "string"
            }
          },
          "metadata": {},
          "execution_count": 447
        }
      ]
    },
    {
      "cell_type": "code",
      "source": [
        "ders[-1]"
      ],
      "metadata": {
        "colab": {
          "base_uri": "https://localhost:8080/",
          "height": 36
        },
        "id": "UD7BhNup8ofq",
        "outputId": "3e1a5fa2-3ed7-4364-ff0c-7e402bf44eae"
      },
      "execution_count": 448,
      "outputs": [
        {
          "output_type": "execute_result",
          "data": {
            "text/plain": [
              "'n'"
            ],
            "application/vnd.google.colaboratory.intrinsic+json": {
              "type": "string"
            }
          },
          "metadata": {},
          "execution_count": 448
        }
      ]
    },
    {
      "cell_type": "code",
      "source": [
        "ders[-2]"
      ],
      "metadata": {
        "colab": {
          "base_uri": "https://localhost:8080/",
          "height": 36
        },
        "id": "hFluYaNe8qCs",
        "outputId": "bc02f65e-1bff-41e3-9074-272795e5f642"
      },
      "execution_count": 449,
      "outputs": [
        {
          "output_type": "execute_result",
          "data": {
            "text/plain": [
              "'o'"
            ],
            "application/vnd.google.colaboratory.intrinsic+json": {
              "type": "string"
            }
          },
          "metadata": {},
          "execution_count": 449
        }
      ]
    },
    {
      "cell_type": "markdown",
      "source": [
        "### **Slice İşlemi**"
      ],
      "metadata": {
        "id": "wE8FQquG9eTR"
      }
    },
    {
      "cell_type": "code",
      "source": [
        "ders[0:2]"
      ],
      "metadata": {
        "colab": {
          "base_uri": "https://localhost:8080/",
          "height": 36
        },
        "id": "9Qg5DGGT8yFH",
        "outputId": "3907b1ab-8a88-4ef9-e9f7-8f656cf607de"
      },
      "execution_count": 450,
      "outputs": [
        {
          "output_type": "execute_result",
          "data": {
            "text/plain": [
              "'py'"
            ],
            "application/vnd.google.colaboratory.intrinsic+json": {
              "type": "string"
            }
          },
          "metadata": {},
          "execution_count": 450
        }
      ]
    },
    {
      "cell_type": "code",
      "source": [
        "icerik[19:35]"
      ],
      "metadata": {
        "colab": {
          "base_uri": "https://localhost:8080/",
          "height": 36
        },
        "id": "8quq66ox833V",
        "outputId": "1bc1d3d7-c2a8-4392-84e4-1d5a759e99c3"
      },
      "execution_count": 451,
      "outputs": [
        {
          "output_type": "execute_result",
          "data": {
            "text/plain": [
              "'Google Developer'"
            ],
            "application/vnd.google.colaboratory.intrinsic+json": {
              "type": "string"
            }
          },
          "metadata": {},
          "execution_count": 451
        }
      ]
    },
    {
      "cell_type": "markdown",
      "source": [
        "### **Karakter Sorgulamak**"
      ],
      "metadata": {
        "id": "qfFWAcVM9nwx"
      }
    },
    {
      "cell_type": "code",
      "source": [
        "ders"
      ],
      "metadata": {
        "colab": {
          "base_uri": "https://localhost:8080/",
          "height": 36
        },
        "id": "ahIRVAar91XY",
        "outputId": "9217f308-349c-4c03-bfe0-9f3fee3e4922"
      },
      "execution_count": 452,
      "outputs": [
        {
          "output_type": "execute_result",
          "data": {
            "text/plain": [
              "'python'"
            ],
            "application/vnd.google.colaboratory.intrinsic+json": {
              "type": "string"
            }
          },
          "metadata": {},
          "execution_count": 452
        }
      ]
    },
    {
      "cell_type": "code",
      "source": [
        "icerik"
      ],
      "metadata": {
        "colab": {
          "base_uri": "https://localhost:8080/",
          "height": 36
        },
        "id": "QunMrbHH97oc",
        "outputId": "e34e85a6-fe68-4e3f-c54b-cb99a107c4b5"
      },
      "execution_count": 453,
      "outputs": [
        {
          "output_type": "execute_result",
          "data": {
            "text/plain": [
              "\"inonu universitesi Google Developer Student Clubs Yapay Zeka Bootcamp birinci gün\\nkonumuz Python'a giris, veri yapilari... \""
            ],
            "application/vnd.google.colaboratory.intrinsic+json": {
              "type": "string"
            }
          },
          "metadata": {},
          "execution_count": 453
        }
      ]
    },
    {
      "cell_type": "code",
      "source": [
        "\"y\" in ders"
      ],
      "metadata": {
        "colab": {
          "base_uri": "https://localhost:8080/"
        },
        "id": "W7obM7At88kw",
        "outputId": "325bdc1b-45fa-453c-a2bd-a093724905e3"
      },
      "execution_count": 454,
      "outputs": [
        {
          "output_type": "execute_result",
          "data": {
            "text/plain": [
              "True"
            ]
          },
          "metadata": {},
          "execution_count": 454
        }
      ]
    },
    {
      "cell_type": "code",
      "source": [
        "\"Yapay Zeka\" in icerik"
      ],
      "metadata": {
        "colab": {
          "base_uri": "https://localhost:8080/"
        },
        "id": "uA7wBA289uIJ",
        "outputId": "09e521fb-16be-412f-b397-4a0156f8eabd"
      },
      "execution_count": 455,
      "outputs": [
        {
          "output_type": "execute_result",
          "data": {
            "text/plain": [
              "True"
            ]
          },
          "metadata": {},
          "execution_count": 455
        }
      ]
    },
    {
      "cell_type": "markdown",
      "source": [
        "### **String metodları**"
      ],
      "metadata": {
        "id": "X0ddeGcJB3cd"
      }
    },
    {
      "cell_type": "code",
      "source": [
        "dir(str)"
      ],
      "metadata": {
        "colab": {
          "base_uri": "https://localhost:8080/"
        },
        "id": "KxF3QYKu-Aeo",
        "outputId": "683adce7-0a3d-43fd-c02c-d933bebb327d"
      },
      "execution_count": 456,
      "outputs": [
        {
          "output_type": "execute_result",
          "data": {
            "text/plain": [
              "['__add__',\n",
              " '__class__',\n",
              " '__contains__',\n",
              " '__delattr__',\n",
              " '__dir__',\n",
              " '__doc__',\n",
              " '__eq__',\n",
              " '__format__',\n",
              " '__ge__',\n",
              " '__getattribute__',\n",
              " '__getitem__',\n",
              " '__getnewargs__',\n",
              " '__gt__',\n",
              " '__hash__',\n",
              " '__init__',\n",
              " '__init_subclass__',\n",
              " '__iter__',\n",
              " '__le__',\n",
              " '__len__',\n",
              " '__lt__',\n",
              " '__mod__',\n",
              " '__mul__',\n",
              " '__ne__',\n",
              " '__new__',\n",
              " '__reduce__',\n",
              " '__reduce_ex__',\n",
              " '__repr__',\n",
              " '__rmod__',\n",
              " '__rmul__',\n",
              " '__setattr__',\n",
              " '__sizeof__',\n",
              " '__str__',\n",
              " '__subclasshook__',\n",
              " 'capitalize',\n",
              " 'casefold',\n",
              " 'center',\n",
              " 'count',\n",
              " 'encode',\n",
              " 'endswith',\n",
              " 'expandtabs',\n",
              " 'find',\n",
              " 'format',\n",
              " 'format_map',\n",
              " 'index',\n",
              " 'isalnum',\n",
              " 'isalpha',\n",
              " 'isascii',\n",
              " 'isdecimal',\n",
              " 'isdigit',\n",
              " 'isidentifier',\n",
              " 'islower',\n",
              " 'isnumeric',\n",
              " 'isprintable',\n",
              " 'isspace',\n",
              " 'istitle',\n",
              " 'isupper',\n",
              " 'join',\n",
              " 'ljust',\n",
              " 'lower',\n",
              " 'lstrip',\n",
              " 'maketrans',\n",
              " 'partition',\n",
              " 'replace',\n",
              " 'rfind',\n",
              " 'rindex',\n",
              " 'rjust',\n",
              " 'rpartition',\n",
              " 'rsplit',\n",
              " 'rstrip',\n",
              " 'split',\n",
              " 'splitlines',\n",
              " 'startswith',\n",
              " 'strip',\n",
              " 'swapcase',\n",
              " 'title',\n",
              " 'translate',\n",
              " 'upper',\n",
              " 'zfill']"
            ]
          },
          "metadata": {},
          "execution_count": 456
        }
      ]
    },
    {
      "cell_type": "code",
      "source": [
        "isim = \"Selami\""
      ],
      "metadata": {
        "id": "6Xblm1eGEPqQ"
      },
      "execution_count": 457,
      "outputs": []
    },
    {
      "cell_type": "markdown",
      "source": [
        "#### type()"
      ],
      "metadata": {
        "id": "LZAWGauvD59G"
      }
    },
    {
      "cell_type": "code",
      "source": [
        "type(isim)"
      ],
      "metadata": {
        "colab": {
          "base_uri": "https://localhost:8080/"
        },
        "id": "X5YrssLiCxIU",
        "outputId": "83503a92-b1f1-4228-f282-ae91013e2a8c"
      },
      "execution_count": 458,
      "outputs": [
        {
          "output_type": "execute_result",
          "data": {
            "text/plain": [
              "str"
            ]
          },
          "metadata": {},
          "execution_count": 458
        }
      ]
    },
    {
      "cell_type": "markdown",
      "source": [
        "#### len()"
      ],
      "metadata": {
        "id": "fl62LU-gEL1R"
      }
    },
    {
      "cell_type": "code",
      "source": [
        "len(isim)"
      ],
      "metadata": {
        "colab": {
          "base_uri": "https://localhost:8080/"
        },
        "id": "ZPTEhlGUEEPa",
        "outputId": "1eaa670e-0a7d-477b-b45b-288562c000c4"
      },
      "execution_count": 459,
      "outputs": [
        {
          "output_type": "execute_result",
          "data": {
            "text/plain": [
              "6"
            ]
          },
          "metadata": {},
          "execution_count": 459
        }
      ]
    },
    {
      "cell_type": "markdown",
      "source": [
        "#### isalpha()"
      ],
      "metadata": {
        "id": "xlBA8CCsExG-"
      }
    },
    {
      "cell_type": "code",
      "source": [
        "isim.isalpha()"
      ],
      "metadata": {
        "colab": {
          "base_uri": "https://localhost:8080/"
        },
        "id": "cx8vBqWUES-W",
        "outputId": "fdcb12bb-4140-4c7f-962c-9654f1abcb12"
      },
      "execution_count": 460,
      "outputs": [
        {
          "output_type": "execute_result",
          "data": {
            "text/plain": [
              "True"
            ]
          },
          "metadata": {},
          "execution_count": 460
        }
      ]
    },
    {
      "cell_type": "code",
      "source": [
        "degisken = \"python3\"\n",
        "degisken.isalpha()"
      ],
      "metadata": {
        "colab": {
          "base_uri": "https://localhost:8080/"
        },
        "id": "A7d1myIGEiOr",
        "outputId": "51df2ab0-5cff-4a16-8129-5c36a3975859"
      },
      "execution_count": 461,
      "outputs": [
        {
          "output_type": "execute_result",
          "data": {
            "text/plain": [
              "False"
            ]
          },
          "metadata": {},
          "execution_count": 461
        }
      ]
    },
    {
      "cell_type": "markdown",
      "source": [
        "#### capitalize()"
      ],
      "metadata": {
        "id": "qGQi16ZgE_u2"
      }
    },
    {
      "cell_type": "code",
      "source": [
        "metin = \"inonu universitesi muhendislik fakultesi\"\n",
        "metin.capitalize()"
      ],
      "metadata": {
        "colab": {
          "base_uri": "https://localhost:8080/",
          "height": 36
        },
        "id": "FRvet9hvEvtB",
        "outputId": "882e262e-d06a-49c1-dc60-a71e72617b5f"
      },
      "execution_count": 462,
      "outputs": [
        {
          "output_type": "execute_result",
          "data": {
            "text/plain": [
              "'Inonu universitesi muhendislik fakultesi'"
            ],
            "application/vnd.google.colaboratory.intrinsic+json": {
              "type": "string"
            }
          },
          "metadata": {},
          "execution_count": 462
        }
      ]
    },
    {
      "cell_type": "markdown",
      "source": [
        "#### title()"
      ],
      "metadata": {
        "id": "Icx0zH1zF73y"
      }
    },
    {
      "cell_type": "code",
      "source": [
        "metin.title()"
      ],
      "metadata": {
        "colab": {
          "base_uri": "https://localhost:8080/",
          "height": 36
        },
        "id": "nIBQgb9RE9Nq",
        "outputId": "01f23f9a-9284-411b-a0bc-c21d26354873"
      },
      "execution_count": 463,
      "outputs": [
        {
          "output_type": "execute_result",
          "data": {
            "text/plain": [
              "'Inonu Universitesi Muhendislik Fakultesi'"
            ],
            "application/vnd.google.colaboratory.intrinsic+json": {
              "type": "string"
            }
          },
          "metadata": {},
          "execution_count": 463
        }
      ]
    },
    {
      "cell_type": "markdown",
      "source": [
        "upper()"
      ],
      "metadata": {
        "id": "OkfbL76sGC1K"
      }
    },
    {
      "cell_type": "code",
      "source": [
        "metin.upper()"
      ],
      "metadata": {
        "colab": {
          "base_uri": "https://localhost:8080/",
          "height": 36
        },
        "id": "CwuvV0ulF6Kw",
        "outputId": "0cfc5102-e8e0-48ef-d34b-55f6f9c4f914"
      },
      "execution_count": 464,
      "outputs": [
        {
          "output_type": "execute_result",
          "data": {
            "text/plain": [
              "'INONU UNIVERSITESI MUHENDISLIK FAKULTESI'"
            ],
            "application/vnd.google.colaboratory.intrinsic+json": {
              "type": "string"
            }
          },
          "metadata": {},
          "execution_count": 464
        }
      ]
    },
    {
      "cell_type": "markdown",
      "source": [
        "#### lower()"
      ],
      "metadata": {
        "id": "6Fb2dmu1GL4u"
      }
    },
    {
      "cell_type": "code",
      "source": [
        "metin = \"Inonu UnIVerSiTEsI\"\n",
        "metin.lower()"
      ],
      "metadata": {
        "colab": {
          "base_uri": "https://localhost:8080/",
          "height": 36
        },
        "id": "s4tNSTYaGGfL",
        "outputId": "2632fc9e-76cb-4d49-be3f-5ba2e906ceef"
      },
      "execution_count": 465,
      "outputs": [
        {
          "output_type": "execute_result",
          "data": {
            "text/plain": [
              "'inonu universitesi'"
            ],
            "application/vnd.google.colaboratory.intrinsic+json": {
              "type": "string"
            }
          },
          "metadata": {},
          "execution_count": 465
        }
      ]
    },
    {
      "cell_type": "markdown",
      "source": [
        "#### count()"
      ],
      "metadata": {
        "id": "0piTTxFbGnpg"
      }
    },
    {
      "cell_type": "code",
      "source": [
        "metin = \"google developer student clubs\"\n",
        "metin.count(\"o\")"
      ],
      "metadata": {
        "colab": {
          "base_uri": "https://localhost:8080/"
        },
        "id": "jluNDZrgGPyT",
        "outputId": "af0d69f6-ab1f-4aa0-f864-13113940c566"
      },
      "execution_count": 466,
      "outputs": [
        {
          "output_type": "execute_result",
          "data": {
            "text/plain": [
              "3"
            ]
          },
          "metadata": {},
          "execution_count": 466
        }
      ]
    },
    {
      "cell_type": "markdown",
      "source": [
        "#### replace()"
      ],
      "metadata": {
        "id": "sItJgAtBHEOi"
      }
    },
    {
      "cell_type": "code",
      "source": [
        "metin.replace(\"o\",\"a\")"
      ],
      "metadata": {
        "colab": {
          "base_uri": "https://localhost:8080/",
          "height": 36
        },
        "id": "6ytssHjZG94o",
        "outputId": "d6999d38-d738-4a67-e9c6-f985b7eff130"
      },
      "execution_count": 467,
      "outputs": [
        {
          "output_type": "execute_result",
          "data": {
            "text/plain": [
              "'gaagle develaper student clubs'"
            ],
            "application/vnd.google.colaboratory.intrinsic+json": {
              "type": "string"
            }
          },
          "metadata": {},
          "execution_count": 467
        }
      ]
    },
    {
      "cell_type": "markdown",
      "source": [
        "#### split()"
      ],
      "metadata": {
        "id": "JumpU2CxHjW5"
      }
    },
    {
      "cell_type": "code",
      "source": [
        "metin.split()"
      ],
      "metadata": {
        "colab": {
          "base_uri": "https://localhost:8080/"
        },
        "id": "UtLw6BvoHJL_",
        "outputId": "160445fc-437e-4af8-fe11-f12650a3e876"
      },
      "execution_count": 468,
      "outputs": [
        {
          "output_type": "execute_result",
          "data": {
            "text/plain": [
              "['google', 'developer', 'student', 'clubs']"
            ]
          },
          "metadata": {},
          "execution_count": 468
        }
      ]
    },
    {
      "cell_type": "markdown",
      "source": [
        "#### strip()"
      ],
      "metadata": {
        "id": "TTDXfEAWHl-l"
      }
    },
    {
      "cell_type": "code",
      "source": [
        "metin = \"inonu universitesi\"\n",
        "metin.strip(\"i\")"
      ],
      "metadata": {
        "colab": {
          "base_uri": "https://localhost:8080/",
          "height": 36
        },
        "id": "YEg6p55DHfen",
        "outputId": "c612f22d-b70c-4943-e11e-2fa655caba9e"
      },
      "execution_count": 469,
      "outputs": [
        {
          "output_type": "execute_result",
          "data": {
            "text/plain": [
              "'nonu universites'"
            ],
            "application/vnd.google.colaboratory.intrinsic+json": {
              "type": "string"
            }
          },
          "metadata": {},
          "execution_count": 469
        }
      ]
    },
    {
      "cell_type": "markdown",
      "source": [
        "#### endswith()"
      ],
      "metadata": {
        "id": "bFElhZVpStj_"
      }
    },
    {
      "cell_type": "code",
      "source": [
        "metin.endswith(\"i\")"
      ],
      "metadata": {
        "colab": {
          "base_uri": "https://localhost:8080/"
        },
        "id": "MnyAk6NMSwXL",
        "outputId": "8199b927-9bf7-43eb-be97-09e9725bc040"
      },
      "execution_count": 470,
      "outputs": [
        {
          "output_type": "execute_result",
          "data": {
            "text/plain": [
              "True"
            ]
          },
          "metadata": {},
          "execution_count": 470
        }
      ]
    },
    {
      "cell_type": "markdown",
      "source": [
        "#### startswith()"
      ],
      "metadata": {
        "id": "B8eqvHcBS2ul"
      }
    },
    {
      "cell_type": "code",
      "source": [
        "metin.startswith(\"i\")"
      ],
      "metadata": {
        "colab": {
          "base_uri": "https://localhost:8080/"
        },
        "id": "koGjMn__S6vP",
        "outputId": "7dc821f8-ff44-4055-d16c-a12ba5b2313e"
      },
      "execution_count": 471,
      "outputs": [
        {
          "output_type": "execute_result",
          "data": {
            "text/plain": [
              "True"
            ]
          },
          "metadata": {},
          "execution_count": 471
        }
      ]
    },
    {
      "cell_type": "markdown",
      "source": [
        "## **Sayılar (Integer, Float)**"
      ],
      "metadata": {
        "id": "ehFbFAjzITsT"
      }
    },
    {
      "cell_type": "markdown",
      "source": [
        "### **integer**"
      ],
      "metadata": {
        "id": "hVD59ENWIzHn"
      }
    },
    {
      "cell_type": "code",
      "source": [
        "sayi1 = 5\n",
        "print(sayi1)\n",
        "print(type(sayi1))"
      ],
      "metadata": {
        "colab": {
          "base_uri": "https://localhost:8080/"
        },
        "id": "OywYs7YJHpNZ",
        "outputId": "5f6cf75d-d0d0-40f0-8ee0-30c7d9962efa"
      },
      "execution_count": 472,
      "outputs": [
        {
          "output_type": "stream",
          "name": "stdout",
          "text": [
            "5\n",
            "<class 'int'>\n"
          ]
        }
      ]
    },
    {
      "cell_type": "markdown",
      "source": [
        "### **float**"
      ],
      "metadata": {
        "id": "tnDiSnRHJPqP"
      }
    },
    {
      "cell_type": "code",
      "source": [
        "sayi2 = 2.5\n",
        "print(sayi2)\n",
        "print(type(sayi2))"
      ],
      "metadata": {
        "colab": {
          "base_uri": "https://localhost:8080/"
        },
        "id": "XfLK8G9nI42m",
        "outputId": "a96956e3-0140-4280-85bd-c2758f363299"
      },
      "execution_count": 473,
      "outputs": [
        {
          "output_type": "stream",
          "name": "stdout",
          "text": [
            "2.5\n",
            "<class 'float'>\n"
          ]
        }
      ]
    },
    {
      "cell_type": "markdown",
      "source": [
        "### **operatörler**\n",
        "* toplama +\n",
        "* çıkarma -\n",
        "* çarpma * \n",
        "* bölme /\n",
        "* üs **\n",
        "* mod %"
      ],
      "metadata": {
        "id": "0a_Q4sd5JyKj"
      }
    },
    {
      "cell_type": "code",
      "source": [
        "sayi1 = 10\n",
        "sayi2 = 5"
      ],
      "metadata": {
        "id": "04NvWRTAKh0c"
      },
      "execution_count": 474,
      "outputs": []
    },
    {
      "cell_type": "markdown",
      "source": [
        "#### toplama"
      ],
      "metadata": {
        "id": "NO9pM5vlKaRH"
      }
    },
    {
      "cell_type": "code",
      "source": [
        "print(sayi1 + sayi2)"
      ],
      "metadata": {
        "colab": {
          "base_uri": "https://localhost:8080/"
        },
        "id": "6Jo6E4aTJYUd",
        "outputId": "1e2d22ff-4f4c-44fb-c7ce-055e49feefe0"
      },
      "execution_count": 475,
      "outputs": [
        {
          "output_type": "stream",
          "name": "stdout",
          "text": [
            "15\n"
          ]
        }
      ]
    },
    {
      "cell_type": "code",
      "source": [
        "toplam = 0\n",
        "toplam += sayi1 + sayi2\n",
        "print(toplam)"
      ],
      "metadata": {
        "colab": {
          "base_uri": "https://localhost:8080/"
        },
        "id": "c62RCdbJxGcK",
        "outputId": "c482ca3f-96e2-465a-d323-422f93bf488e"
      },
      "execution_count": 476,
      "outputs": [
        {
          "output_type": "stream",
          "name": "stdout",
          "text": [
            "15\n"
          ]
        }
      ]
    },
    {
      "cell_type": "markdown",
      "source": [
        "#### çıkarma"
      ],
      "metadata": {
        "id": "0q8giWpbK-PF"
      }
    },
    {
      "cell_type": "code",
      "source": [
        "print(sayi1 - sayi2)"
      ],
      "metadata": {
        "colab": {
          "base_uri": "https://localhost:8080/"
        },
        "id": "tNDct6huKgKw",
        "outputId": "dd8c6014-c013-4f9b-c99f-8d7060c0aea7"
      },
      "execution_count": 477,
      "outputs": [
        {
          "output_type": "stream",
          "name": "stdout",
          "text": [
            "5\n"
          ]
        }
      ]
    },
    {
      "cell_type": "markdown",
      "source": [
        "#### çarpma"
      ],
      "metadata": {
        "id": "aUvyAmoCLGjQ"
      }
    },
    {
      "cell_type": "code",
      "source": [
        "print(sayi1 * sayi2)"
      ],
      "metadata": {
        "colab": {
          "base_uri": "https://localhost:8080/"
        },
        "id": "0ar1qbe5K7V8",
        "outputId": "3192a18c-a34c-4433-97bb-486b5fe75ead"
      },
      "execution_count": 478,
      "outputs": [
        {
          "output_type": "stream",
          "name": "stdout",
          "text": [
            "50\n"
          ]
        }
      ]
    },
    {
      "cell_type": "code",
      "source": [
        "print(\"selami\" * 3)"
      ],
      "metadata": {
        "colab": {
          "base_uri": "https://localhost:8080/"
        },
        "id": "gPjb38evLKlc",
        "outputId": "b95afcf6-58ca-4b5e-d97a-f73b0b7a890d"
      },
      "execution_count": 479,
      "outputs": [
        {
          "output_type": "stream",
          "name": "stdout",
          "text": [
            "selamiselamiselami\n"
          ]
        }
      ]
    },
    {
      "cell_type": "markdown",
      "source": [
        "#### bölme"
      ],
      "metadata": {
        "id": "rwko8GodLZqE"
      }
    },
    {
      "cell_type": "code",
      "source": [
        "print(sayi1 / sayi2)"
      ],
      "metadata": {
        "colab": {
          "base_uri": "https://localhost:8080/"
        },
        "id": "pabsgnQHLPAN",
        "outputId": "4e75463c-958e-4dee-cdfc-c50b93734004"
      },
      "execution_count": 480,
      "outputs": [
        {
          "output_type": "stream",
          "name": "stdout",
          "text": [
            "2.0\n"
          ]
        }
      ]
    },
    {
      "cell_type": "markdown",
      "source": [
        "#### üs alma"
      ],
      "metadata": {
        "id": "4zdS9qRFLjph"
      }
    },
    {
      "cell_type": "code",
      "source": [
        "print(sayi1 ** sayi2)"
      ],
      "metadata": {
        "colab": {
          "base_uri": "https://localhost:8080/"
        },
        "id": "Zw7yokLaLmh2",
        "outputId": "0df54d0c-8ce9-4f8d-ee24-cc0bfbeaf31f"
      },
      "execution_count": 481,
      "outputs": [
        {
          "output_type": "stream",
          "name": "stdout",
          "text": [
            "100000\n"
          ]
        }
      ]
    },
    {
      "cell_type": "code",
      "source": [
        "print(2 ** 3)"
      ],
      "metadata": {
        "colab": {
          "base_uri": "https://localhost:8080/"
        },
        "id": "NM6pWbb9Lopl",
        "outputId": "3815963e-ae12-4ee3-b8b8-3cfce6c7c176"
      },
      "execution_count": 482,
      "outputs": [
        {
          "output_type": "stream",
          "name": "stdout",
          "text": [
            "8\n"
          ]
        }
      ]
    },
    {
      "cell_type": "markdown",
      "source": [
        "#### mod alma"
      ],
      "metadata": {
        "id": "W3p7mJdCLvUg"
      }
    },
    {
      "cell_type": "code",
      "source": [
        "print(10 % 2)"
      ],
      "metadata": {
        "colab": {
          "base_uri": "https://localhost:8080/"
        },
        "id": "PWIDRxhRLsrT",
        "outputId": "4f65739d-92a4-4dc0-c957-352afc5364bc"
      },
      "execution_count": 483,
      "outputs": [
        {
          "output_type": "stream",
          "name": "stdout",
          "text": [
            "0\n"
          ]
        }
      ]
    },
    {
      "cell_type": "code",
      "source": [
        "print(10 % 3)"
      ],
      "metadata": {
        "colab": {
          "base_uri": "https://localhost:8080/"
        },
        "id": "hZnSRE6vLy95",
        "outputId": "9f2abd18-0b49-45eb-a897-dc3628b75973"
      },
      "execution_count": 484,
      "outputs": [
        {
          "output_type": "stream",
          "name": "stdout",
          "text": [
            "1\n"
          ]
        }
      ]
    },
    {
      "cell_type": "markdown",
      "source": [
        "### **Tip Dönüşümleri**"
      ],
      "metadata": {
        "id": "GEmMvH3-MaPN"
      }
    },
    {
      "cell_type": "code",
      "source": [
        "sayi = 20\n",
        "type(sayi)"
      ],
      "metadata": {
        "colab": {
          "base_uri": "https://localhost:8080/"
        },
        "id": "YkvKqIMAL4Fm",
        "outputId": "2d6be17b-8232-4d7f-e3a8-948ee21fd0f2"
      },
      "execution_count": 485,
      "outputs": [
        {
          "output_type": "execute_result",
          "data": {
            "text/plain": [
              "int"
            ]
          },
          "metadata": {},
          "execution_count": 485
        }
      ]
    },
    {
      "cell_type": "code",
      "source": [
        "float(sayi)"
      ],
      "metadata": {
        "colab": {
          "base_uri": "https://localhost:8080/"
        },
        "id": "vwCizQmEMjgq",
        "outputId": "2c62862c-45cf-4efe-ce80-dfd5ee2fc84f"
      },
      "execution_count": 486,
      "outputs": [
        {
          "output_type": "execute_result",
          "data": {
            "text/plain": [
              "20.0"
            ]
          },
          "metadata": {},
          "execution_count": 486
        }
      ]
    },
    {
      "cell_type": "code",
      "source": [
        "type(sayi)"
      ],
      "metadata": {
        "colab": {
          "base_uri": "https://localhost:8080/"
        },
        "id": "TKwjlHLAMsKJ",
        "outputId": "c9e2eccb-d109-4c0a-e0d8-b56a4fffb5c8"
      },
      "execution_count": 487,
      "outputs": [
        {
          "output_type": "execute_result",
          "data": {
            "text/plain": [
              "int"
            ]
          },
          "metadata": {},
          "execution_count": 487
        }
      ]
    },
    {
      "cell_type": "code",
      "source": [
        "sayi = float(sayi)\n",
        "type(sayi)"
      ],
      "metadata": {
        "colab": {
          "base_uri": "https://localhost:8080/"
        },
        "id": "Q1Y-o1lIMt3z",
        "outputId": "c44efc5a-57e0-4e21-8779-d09701220d11"
      },
      "execution_count": 488,
      "outputs": [
        {
          "output_type": "execute_result",
          "data": {
            "text/plain": [
              "float"
            ]
          },
          "metadata": {},
          "execution_count": 488
        }
      ]
    },
    {
      "cell_type": "code",
      "source": [
        "sayi = int(sayi)\n",
        "type(sayi)"
      ],
      "metadata": {
        "colab": {
          "base_uri": "https://localhost:8080/"
        },
        "id": "YIPi5cRwMxRz",
        "outputId": "5c4faefe-3eed-413f-d7f7-5c73c053c943"
      },
      "execution_count": 489,
      "outputs": [
        {
          "output_type": "execute_result",
          "data": {
            "text/plain": [
              "int"
            ]
          },
          "metadata": {},
          "execution_count": 489
        }
      ]
    },
    {
      "cell_type": "code",
      "source": [
        "yeniSayi = \"35\"\n",
        "type(yeniSayi)"
      ],
      "metadata": {
        "colab": {
          "base_uri": "https://localhost:8080/"
        },
        "id": "webxeV7CM9QJ",
        "outputId": "525fdade-5152-4c58-ac26-a8a26378dd27"
      },
      "execution_count": 490,
      "outputs": [
        {
          "output_type": "execute_result",
          "data": {
            "text/plain": [
              "str"
            ]
          },
          "metadata": {},
          "execution_count": 490
        }
      ]
    },
    {
      "cell_type": "code",
      "source": [
        "yeniSayi = int(yeniSayi)\n",
        "type(yeniSayi)"
      ],
      "metadata": {
        "colab": {
          "base_uri": "https://localhost:8080/"
        },
        "id": "CsPipvw3NE62",
        "outputId": "625c6a09-1260-4965-e183-c6cf85cb498f"
      },
      "execution_count": 491,
      "outputs": [
        {
          "output_type": "execute_result",
          "data": {
            "text/plain": [
              "int"
            ]
          },
          "metadata": {},
          "execution_count": 491
        }
      ]
    },
    {
      "cell_type": "code",
      "source": [
        "yeniSayi = str(yeniSayi)\n",
        "type(yeniSayi)"
      ],
      "metadata": {
        "colab": {
          "base_uri": "https://localhost:8080/"
        },
        "id": "Q-lrU0p5NLY5",
        "outputId": "1faa14af-6d2b-4868-b321-d31eed4e7e6a"
      },
      "execution_count": 492,
      "outputs": [
        {
          "output_type": "execute_result",
          "data": {
            "text/plain": [
              "str"
            ]
          },
          "metadata": {},
          "execution_count": 492
        }
      ]
    },
    {
      "cell_type": "code",
      "source": [
        "sayi = 5.3\n",
        "print(int(sayi))"
      ],
      "metadata": {
        "colab": {
          "base_uri": "https://localhost:8080/"
        },
        "id": "hwAqYXKWNzka",
        "outputId": "7871faf7-f9ec-4e4d-a2ed-15af2944015a"
      },
      "execution_count": 493,
      "outputs": [
        {
          "output_type": "stream",
          "name": "stdout",
          "text": [
            "5\n"
          ]
        }
      ]
    },
    {
      "cell_type": "markdown",
      "source": [
        "**Mutlak değer alma**"
      ],
      "metadata": {
        "id": "Mpi4Zjf0WHpf"
      }
    },
    {
      "cell_type": "code",
      "source": [
        "abs(-5)"
      ],
      "metadata": {
        "colab": {
          "base_uri": "https://localhost:8080/"
        },
        "id": "ZIAG2LcKVqS6",
        "outputId": "7d48edd6-adff-43db-c6d8-bc64e3fb6222"
      },
      "execution_count": 494,
      "outputs": [
        {
          "output_type": "execute_result",
          "data": {
            "text/plain": [
              "5"
            ]
          },
          "metadata": {},
          "execution_count": 494
        }
      ]
    },
    {
      "cell_type": "markdown",
      "source": [
        "## **Boolean (True-False)**"
      ],
      "metadata": {
        "id": "lrQqCNAhNrH7"
      }
    },
    {
      "cell_type": "code",
      "source": [
        "degisken=True\n",
        "type(degisken)"
      ],
      "metadata": {
        "colab": {
          "base_uri": "https://localhost:8080/"
        },
        "id": "1BRP_uu1NSxP",
        "outputId": "c51cc933-9787-4f48-fe31-11c2aafad9fe"
      },
      "execution_count": 495,
      "outputs": [
        {
          "output_type": "execute_result",
          "data": {
            "text/plain": [
              "bool"
            ]
          },
          "metadata": {},
          "execution_count": 495
        }
      ]
    },
    {
      "cell_type": "code",
      "source": [
        "print(5==5)\n",
        "print(\"google\"==\"google\")\n",
        "print(2==3)\n",
        "print(2!=3)"
      ],
      "metadata": {
        "colab": {
          "base_uri": "https://localhost:8080/"
        },
        "id": "J8YXi7j4OnIm",
        "outputId": "2f27333d-3005-496b-cc05-7d769544932d"
      },
      "execution_count": 496,
      "outputs": [
        {
          "output_type": "stream",
          "name": "stdout",
          "text": [
            "True\n",
            "True\n",
            "False\n",
            "True\n"
          ]
        }
      ]
    },
    {
      "cell_type": "markdown",
      "source": [
        "## **Listeler (List)**"
      ],
      "metadata": {
        "id": "Bma8EDUaPDIw"
      }
    },
    {
      "cell_type": "markdown",
      "source": [
        "### **Liste oluşturma**"
      ],
      "metadata": {
        "id": "cNjk2XJGan9L"
      }
    },
    {
      "cell_type": "code",
      "source": [
        "sehirler = [\"Malatya\", \"Istanbul\", \"Ankara\", \"Yozgat\"]\n",
        "print(sehirler)\n",
        "type(sehirler)"
      ],
      "metadata": {
        "colab": {
          "base_uri": "https://localhost:8080/"
        },
        "id": "Vjy_IJ8NOseI",
        "outputId": "e52367ee-c1e5-4c5e-b356-641f3c2b5720"
      },
      "execution_count": 497,
      "outputs": [
        {
          "output_type": "stream",
          "name": "stdout",
          "text": [
            "['Malatya', 'Istanbul', 'Ankara', 'Yozgat']\n"
          ]
        },
        {
          "output_type": "execute_result",
          "data": {
            "text/plain": [
              "list"
            ]
          },
          "metadata": {},
          "execution_count": 497
        }
      ]
    },
    {
      "cell_type": "code",
      "source": [
        "liste = [\"A\",2,False,[4,5,6,7]]\n",
        "print(liste)"
      ],
      "metadata": {
        "colab": {
          "base_uri": "https://localhost:8080/"
        },
        "id": "qQbMszb5PhLX",
        "outputId": "69869532-ce51-4850-ac58-3842e9319d87"
      },
      "execution_count": 498,
      "outputs": [
        {
          "output_type": "stream",
          "name": "stdout",
          "text": [
            "['A', 2, False, [4, 5, 6, 7]]\n"
          ]
        }
      ]
    },
    {
      "cell_type": "markdown",
      "source": [
        "### **Elemanlara erişmek**"
      ],
      "metadata": {
        "id": "iLkgt_Tca2wT"
      }
    },
    {
      "cell_type": "code",
      "source": [
        "sehirler[0]"
      ],
      "metadata": {
        "colab": {
          "base_uri": "https://localhost:8080/",
          "height": 36
        },
        "id": "fS5sE8bIQKpb",
        "outputId": "93659bc0-b91f-4198-fa7b-239b27c5ac22"
      },
      "execution_count": 499,
      "outputs": [
        {
          "output_type": "execute_result",
          "data": {
            "text/plain": [
              "'Malatya'"
            ],
            "application/vnd.google.colaboratory.intrinsic+json": {
              "type": "string"
            }
          },
          "metadata": {},
          "execution_count": 499
        }
      ]
    },
    {
      "cell_type": "code",
      "source": [
        "sehirler[0:3]"
      ],
      "metadata": {
        "colab": {
          "base_uri": "https://localhost:8080/"
        },
        "id": "Ksr0_KZjQSTL",
        "outputId": "fe928d7e-683c-40d5-efef-6179ac4aff80"
      },
      "execution_count": 500,
      "outputs": [
        {
          "output_type": "execute_result",
          "data": {
            "text/plain": [
              "['Malatya', 'Istanbul', 'Ankara']"
            ]
          },
          "metadata": {},
          "execution_count": 500
        }
      ]
    },
    {
      "cell_type": "code",
      "source": [
        "sehirler[-1]"
      ],
      "metadata": {
        "colab": {
          "base_uri": "https://localhost:8080/",
          "height": 36
        },
        "id": "AvX6MRwgQU8C",
        "outputId": "59ee575b-fc6a-4121-f3de-108b7225cd2e"
      },
      "execution_count": 501,
      "outputs": [
        {
          "output_type": "execute_result",
          "data": {
            "text/plain": [
              "'Yozgat'"
            ],
            "application/vnd.google.colaboratory.intrinsic+json": {
              "type": "string"
            }
          },
          "metadata": {},
          "execution_count": 501
        }
      ]
    },
    {
      "cell_type": "markdown",
      "source": [
        "### **değişiklik yapmak**"
      ],
      "metadata": {
        "id": "V70ptmdKa-Vv"
      }
    },
    {
      "cell_type": "code",
      "source": [
        "sehirler[2]=\"Izmir\"\n",
        "print(sehirler)"
      ],
      "metadata": {
        "colab": {
          "base_uri": "https://localhost:8080/"
        },
        "id": "_xCcNdOMRQDr",
        "outputId": "bcc4f867-d7d2-4e9b-b5b9-0d2d98d5a7e1"
      },
      "execution_count": 502,
      "outputs": [
        {
          "output_type": "stream",
          "name": "stdout",
          "text": [
            "['Malatya', 'Istanbul', 'Izmir', 'Yozgat']\n"
          ]
        }
      ]
    },
    {
      "cell_type": "markdown",
      "source": [
        "### **Matrisler**"
      ],
      "metadata": {
        "id": "zK55yyg9QgoL"
      }
    },
    {
      "cell_type": "code",
      "source": [
        "matris=[[1,2,3],\n",
        "        [4,5,6],\n",
        "        [7,8,9]]\n",
        "print(matris)\n",
        "type(matris)"
      ],
      "metadata": {
        "colab": {
          "base_uri": "https://localhost:8080/"
        },
        "id": "rVh1ERg3Qa23",
        "outputId": "fdf0c719-ed3f-434d-9e0a-7846f466e2fb"
      },
      "execution_count": 503,
      "outputs": [
        {
          "output_type": "stream",
          "name": "stdout",
          "text": [
            "[[1, 2, 3], [4, 5, 6], [7, 8, 9]]\n"
          ]
        },
        {
          "output_type": "execute_result",
          "data": {
            "text/plain": [
              "list"
            ]
          },
          "metadata": {},
          "execution_count": 503
        }
      ]
    },
    {
      "cell_type": "code",
      "source": [
        "matris[0]"
      ],
      "metadata": {
        "colab": {
          "base_uri": "https://localhost:8080/"
        },
        "id": "5WwStMChQ59F",
        "outputId": "26f8b939-d462-4b3d-d5ab-89c49e754b92"
      },
      "execution_count": 504,
      "outputs": [
        {
          "output_type": "execute_result",
          "data": {
            "text/plain": [
              "[1, 2, 3]"
            ]
          },
          "metadata": {},
          "execution_count": 504
        }
      ]
    },
    {
      "cell_type": "code",
      "source": [
        "matris[0][0]"
      ],
      "metadata": {
        "colab": {
          "base_uri": "https://localhost:8080/"
        },
        "id": "W06JU-7UQ-n_",
        "outputId": "a4e86158-1b97-4862-cb55-ae06be5d00e1"
      },
      "execution_count": 505,
      "outputs": [
        {
          "output_type": "execute_result",
          "data": {
            "text/plain": [
              "1"
            ]
          },
          "metadata": {},
          "execution_count": 505
        }
      ]
    },
    {
      "cell_type": "code",
      "source": [
        "matris[1][2]"
      ],
      "metadata": {
        "colab": {
          "base_uri": "https://localhost:8080/"
        },
        "id": "GJo2iG1URAZt",
        "outputId": "7b65d747-7c07-425b-bd84-f39c80b5dbb9"
      },
      "execution_count": 506,
      "outputs": [
        {
          "output_type": "execute_result",
          "data": {
            "text/plain": [
              "6"
            ]
          },
          "metadata": {},
          "execution_count": 506
        }
      ]
    },
    {
      "cell_type": "code",
      "source": [
        "matris[1][2]=99\n",
        "print(matris)"
      ],
      "metadata": {
        "colab": {
          "base_uri": "https://localhost:8080/"
        },
        "id": "QUF95Qj3RCoq",
        "outputId": "ec493a0b-4c57-4a04-c19a-05e0a894bed0"
      },
      "execution_count": 507,
      "outputs": [
        {
          "output_type": "stream",
          "name": "stdout",
          "text": [
            "[[1, 2, 3], [4, 5, 99], [7, 8, 9]]\n"
          ]
        }
      ]
    },
    {
      "cell_type": "markdown",
      "source": [
        "### **Dizi Metodları**"
      ],
      "metadata": {
        "id": "_--x_5wcReLZ"
      }
    },
    {
      "cell_type": "code",
      "source": [
        "dir(list)"
      ],
      "metadata": {
        "colab": {
          "base_uri": "https://localhost:8080/"
        },
        "id": "0hy266IXRLSc",
        "outputId": "86e61ae7-3f1d-4b37-d79c-4d832fc3db3b"
      },
      "execution_count": 508,
      "outputs": [
        {
          "output_type": "execute_result",
          "data": {
            "text/plain": [
              "['__add__',\n",
              " '__class__',\n",
              " '__contains__',\n",
              " '__delattr__',\n",
              " '__delitem__',\n",
              " '__dir__',\n",
              " '__doc__',\n",
              " '__eq__',\n",
              " '__format__',\n",
              " '__ge__',\n",
              " '__getattribute__',\n",
              " '__getitem__',\n",
              " '__gt__',\n",
              " '__hash__',\n",
              " '__iadd__',\n",
              " '__imul__',\n",
              " '__init__',\n",
              " '__init_subclass__',\n",
              " '__iter__',\n",
              " '__le__',\n",
              " '__len__',\n",
              " '__lt__',\n",
              " '__mul__',\n",
              " '__ne__',\n",
              " '__new__',\n",
              " '__reduce__',\n",
              " '__reduce_ex__',\n",
              " '__repr__',\n",
              " '__reversed__',\n",
              " '__rmul__',\n",
              " '__setattr__',\n",
              " '__setitem__',\n",
              " '__sizeof__',\n",
              " '__str__',\n",
              " '__subclasshook__',\n",
              " 'append',\n",
              " 'clear',\n",
              " 'copy',\n",
              " 'count',\n",
              " 'extend',\n",
              " 'index',\n",
              " 'insert',\n",
              " 'pop',\n",
              " 'remove',\n",
              " 'reverse',\n",
              " 'sort']"
            ]
          },
          "metadata": {},
          "execution_count": 508
        }
      ]
    },
    {
      "cell_type": "code",
      "source": [
        "sayilar=[3,2,5,4,1]"
      ],
      "metadata": {
        "id": "ZgaLxyfLRoCU"
      },
      "execution_count": 509,
      "outputs": []
    },
    {
      "cell_type": "markdown",
      "source": [
        "#### len()"
      ],
      "metadata": {
        "id": "2jZF2j4-Up0P"
      }
    },
    {
      "cell_type": "code",
      "source": [
        "len(sayilar)"
      ],
      "metadata": {
        "colab": {
          "base_uri": "https://localhost:8080/"
        },
        "id": "LdDSmInsUmxR",
        "outputId": "956ea077-978b-4f58-e9d2-0f302d75c3d7"
      },
      "execution_count": 510,
      "outputs": [
        {
          "output_type": "execute_result",
          "data": {
            "text/plain": [
              "5"
            ]
          },
          "metadata": {},
          "execution_count": 510
        }
      ]
    },
    {
      "cell_type": "markdown",
      "source": [
        "#### count()"
      ],
      "metadata": {
        "id": "1-OQVuF1Us0V"
      }
    },
    {
      "cell_type": "code",
      "source": [
        "sayilar.count(2)"
      ],
      "metadata": {
        "colab": {
          "base_uri": "https://localhost:8080/"
        },
        "id": "wZIpinWmR9gj",
        "outputId": "b27e51c9-1ee8-4cc6-f197-8fa2addcd39d"
      },
      "execution_count": 511,
      "outputs": [
        {
          "output_type": "execute_result",
          "data": {
            "text/plain": [
              "1"
            ]
          },
          "metadata": {},
          "execution_count": 511
        }
      ]
    },
    {
      "cell_type": "markdown",
      "source": [
        "#### append()"
      ],
      "metadata": {
        "id": "-YqN03_nUwDO"
      }
    },
    {
      "cell_type": "code",
      "source": [
        "sayilar.append(6)\n",
        "print(sayilar)"
      ],
      "metadata": {
        "colab": {
          "base_uri": "https://localhost:8080/"
        },
        "id": "h2eQgTXqSPNa",
        "outputId": "228b80e1-c51c-4db2-9014-21b3cff41f8f"
      },
      "execution_count": 512,
      "outputs": [
        {
          "output_type": "stream",
          "name": "stdout",
          "text": [
            "[3, 2, 5, 4, 1, 6]\n"
          ]
        }
      ]
    },
    {
      "cell_type": "markdown",
      "source": [
        "#### insert()"
      ],
      "metadata": {
        "id": "XqiUJezGUx4R"
      }
    },
    {
      "cell_type": "code",
      "source": [
        "sayilar.insert(0,7)\n",
        "print(sayilar)"
      ],
      "metadata": {
        "colab": {
          "base_uri": "https://localhost:8080/"
        },
        "id": "SCK1bxosSY4_",
        "outputId": "4376a688-1021-485f-ce0c-c3f0df3adebe"
      },
      "execution_count": 513,
      "outputs": [
        {
          "output_type": "stream",
          "name": "stdout",
          "text": [
            "[7, 3, 2, 5, 4, 1, 6]\n"
          ]
        }
      ]
    },
    {
      "cell_type": "markdown",
      "source": [
        "#### pop()"
      ],
      "metadata": {
        "id": "v3YK1zEpU0o1"
      }
    },
    {
      "cell_type": "code",
      "source": [
        "sayilar.pop()\n",
        "print(sayilar)"
      ],
      "metadata": {
        "colab": {
          "base_uri": "https://localhost:8080/"
        },
        "id": "24uyfSPCSe8V",
        "outputId": "c78a3f5b-7338-415b-d096-5c21f45242a8"
      },
      "execution_count": 514,
      "outputs": [
        {
          "output_type": "stream",
          "name": "stdout",
          "text": [
            "[7, 3, 2, 5, 4, 1]\n"
          ]
        }
      ]
    },
    {
      "cell_type": "code",
      "source": [
        "ilkSayi=sayilar.pop(0)\n",
        "print(sayilar)\n",
        "print(ilkSayi)"
      ],
      "metadata": {
        "colab": {
          "base_uri": "https://localhost:8080/"
        },
        "id": "jZanMTJyTS1l",
        "outputId": "dbe97b07-0c8c-4a36-f462-1aa8a859eafb"
      },
      "execution_count": 515,
      "outputs": [
        {
          "output_type": "stream",
          "name": "stdout",
          "text": [
            "[3, 2, 5, 4, 1]\n",
            "7\n"
          ]
        }
      ]
    },
    {
      "cell_type": "markdown",
      "source": [
        "#### remove()"
      ],
      "metadata": {
        "id": "IxIzuNOcU3bi"
      }
    },
    {
      "cell_type": "code",
      "source": [
        "sayilar.remove(5)\n",
        "print(sayilar)"
      ],
      "metadata": {
        "colab": {
          "base_uri": "https://localhost:8080/"
        },
        "id": "m9PUBGniTitw",
        "outputId": "a254f909-2faa-491e-e845-2fd0f0f3869f"
      },
      "execution_count": 516,
      "outputs": [
        {
          "output_type": "stream",
          "name": "stdout",
          "text": [
            "[3, 2, 4, 1]\n"
          ]
        }
      ]
    },
    {
      "cell_type": "markdown",
      "source": [
        "#### sort()"
      ],
      "metadata": {
        "id": "3uftTUM-U5gt"
      }
    },
    {
      "cell_type": "code",
      "source": [
        "sayilar.sort()\n",
        "print(sayilar)"
      ],
      "metadata": {
        "colab": {
          "base_uri": "https://localhost:8080/"
        },
        "id": "0svP1KMkTWOZ",
        "outputId": "f4c8e897-8047-4117-9b19-28080e16dd4e"
      },
      "execution_count": 517,
      "outputs": [
        {
          "output_type": "stream",
          "name": "stdout",
          "text": [
            "[1, 2, 3, 4]\n"
          ]
        }
      ]
    },
    {
      "cell_type": "markdown",
      "source": [
        "#### reverse()"
      ],
      "metadata": {
        "id": "h04xfjQnU7-i"
      }
    },
    {
      "cell_type": "code",
      "source": [
        "sayilar.reverse()\n",
        "print(sayilar)"
      ],
      "metadata": {
        "colab": {
          "base_uri": "https://localhost:8080/"
        },
        "id": "tqmoCYe1TaMt",
        "outputId": "025df993-3eb9-442d-8ff7-ea0edbf4efac"
      },
      "execution_count": 518,
      "outputs": [
        {
          "output_type": "stream",
          "name": "stdout",
          "text": [
            "[4, 3, 2, 1]\n"
          ]
        }
      ]
    },
    {
      "cell_type": "code",
      "source": [
        "sayilar.sort(reverse=True)\n",
        "print(sayilar)"
      ],
      "metadata": {
        "colab": {
          "base_uri": "https://localhost:8080/"
        },
        "id": "f6IZN3ovTeTF",
        "outputId": "df17aa41-f132-4477-ffe5-6ce1c80b007a"
      },
      "execution_count": 519,
      "outputs": [
        {
          "output_type": "stream",
          "name": "stdout",
          "text": [
            "[4, 3, 2, 1]\n"
          ]
        }
      ]
    },
    {
      "cell_type": "markdown",
      "source": [
        "## **Sözlükler (Dictionary)**"
      ],
      "metadata": {
        "id": "-1jysousWZeG"
      }
    },
    {
      "cell_type": "markdown",
      "source": [
        "### **Sözlük oluşturma**"
      ],
      "metadata": {
        "id": "O5XvnC7Pl9ey"
      }
    },
    {
      "cell_type": "code",
      "source": [
        "sehir = {\"istanbul\" : 34,\n",
        "         \"malatya\" : 44,\n",
        "         \"diyarbakir\" : 21,\n",
        "         \"yozgat\" : 66}\n",
        "\n",
        "print(sehir)"
      ],
      "metadata": {
        "colab": {
          "base_uri": "https://localhost:8080/"
        },
        "id": "m_PUuH9tT9jB",
        "outputId": "b0cd28b5-2902-4dc0-db1a-aba5fa9654e7"
      },
      "execution_count": 520,
      "outputs": [
        {
          "output_type": "stream",
          "name": "stdout",
          "text": [
            "{'istanbul': 34, 'malatya': 44, 'diyarbakir': 21, 'yozgat': 66}\n"
          ]
        }
      ]
    },
    {
      "cell_type": "markdown",
      "source": [
        "### **Elemanlara erişmek**"
      ],
      "metadata": {
        "id": "CGHaBDJpmEzD"
      }
    },
    {
      "cell_type": "code",
      "source": [
        "print(sehir.keys())\n",
        "print(sehir.values())"
      ],
      "metadata": {
        "colab": {
          "base_uri": "https://localhost:8080/"
        },
        "id": "ffm3hm8FZToE",
        "outputId": "a5913b08-e147-4796-d7ba-3a51d79bbcd4"
      },
      "execution_count": 521,
      "outputs": [
        {
          "output_type": "stream",
          "name": "stdout",
          "text": [
            "dict_keys(['istanbul', 'malatya', 'diyarbakir', 'yozgat'])\n",
            "dict_values([34, 44, 21, 66])\n"
          ]
        }
      ]
    },
    {
      "cell_type": "code",
      "source": [
        "sehir.items()"
      ],
      "metadata": {
        "colab": {
          "base_uri": "https://localhost:8080/"
        },
        "id": "0EXtMX5IZdXR",
        "outputId": "2129aadf-fcdf-4182-9b3f-a700bc667d3a"
      },
      "execution_count": 522,
      "outputs": [
        {
          "output_type": "execute_result",
          "data": {
            "text/plain": [
              "dict_items([('istanbul', 34), ('malatya', 44), ('diyarbakir', 21), ('yozgat', 66)])"
            ]
          },
          "metadata": {},
          "execution_count": 522
        }
      ]
    },
    {
      "cell_type": "code",
      "source": [
        "sehir[\"yozgat\"]"
      ],
      "metadata": {
        "colab": {
          "base_uri": "https://localhost:8080/"
        },
        "id": "Y9TkK7vpZnzG",
        "outputId": "2584608e-a944-4a3b-f6b6-fdca3bd24f3f"
      },
      "execution_count": 523,
      "outputs": [
        {
          "output_type": "execute_result",
          "data": {
            "text/plain": [
              "66"
            ]
          },
          "metadata": {},
          "execution_count": 523
        }
      ]
    },
    {
      "cell_type": "markdown",
      "source": [
        "### **Eleman Eklemek**"
      ],
      "metadata": {
        "id": "DpQsohhbmKnV"
      }
    },
    {
      "cell_type": "code",
      "source": [
        "sehir[\"burdur\"]=15\n",
        "print(sehir)"
      ],
      "metadata": {
        "colab": {
          "base_uri": "https://localhost:8080/"
        },
        "id": "Im1BD48UZxb8",
        "outputId": "f4df7d17-254a-4f57-fb4a-44fc0be46d52"
      },
      "execution_count": 524,
      "outputs": [
        {
          "output_type": "stream",
          "name": "stdout",
          "text": [
            "{'istanbul': 34, 'malatya': 44, 'diyarbakir': 21, 'yozgat': 66, 'burdur': 15}\n"
          ]
        }
      ]
    },
    {
      "cell_type": "markdown",
      "source": [
        "### **Eleman Silmek**"
      ],
      "metadata": {
        "id": "5a_zyEiGmOB1"
      }
    },
    {
      "cell_type": "code",
      "source": [
        "del sehir[\"istanbul\"]\n",
        "print(sehir)"
      ],
      "metadata": {
        "colab": {
          "base_uri": "https://localhost:8080/"
        },
        "id": "g1gfUjqij3e5",
        "outputId": "03fb2e6b-3220-42d6-e83d-0e6f68acbaa7"
      },
      "execution_count": 525,
      "outputs": [
        {
          "output_type": "stream",
          "name": "stdout",
          "text": [
            "{'malatya': 44, 'diyarbakir': 21, 'yozgat': 66, 'burdur': 15}\n"
          ]
        }
      ]
    },
    {
      "cell_type": "markdown",
      "source": [
        "### **Eleman Güncellemek**"
      ],
      "metadata": {
        "id": "2uOYNNAKmTaR"
      }
    },
    {
      "cell_type": "code",
      "source": [
        "sehir[\"malatya\"]=90\n",
        "print(sehir)"
      ],
      "metadata": {
        "colab": {
          "base_uri": "https://localhost:8080/"
        },
        "id": "GmUOlhXPaHRF",
        "outputId": "9488d650-a4fa-4680-f82b-923b33f37185"
      },
      "execution_count": 526,
      "outputs": [
        {
          "output_type": "stream",
          "name": "stdout",
          "text": [
            "{'malatya': 90, 'diyarbakir': 21, 'yozgat': 66, 'burdur': 15}\n"
          ]
        }
      ]
    },
    {
      "cell_type": "code",
      "source": [
        "sehir.update({\"malatya\":44})\n",
        "print(sehir)"
      ],
      "metadata": {
        "colab": {
          "base_uri": "https://localhost:8080/"
        },
        "id": "vR0eGAK3ahYl",
        "outputId": "570fe87d-0434-4b41-b440-39050d440d9d"
      },
      "execution_count": 527,
      "outputs": [
        {
          "output_type": "stream",
          "name": "stdout",
          "text": [
            "{'malatya': 44, 'diyarbakir': 21, 'yozgat': 66, 'burdur': 15}\n"
          ]
        }
      ]
    },
    {
      "cell_type": "markdown",
      "source": [
        "## **Demetler (Tuple)**"
      ],
      "metadata": {
        "id": "f0vmZsECmeP4"
      }
    },
    {
      "cell_type": "markdown",
      "source": [
        "### **Tuple oluşturma**"
      ],
      "metadata": {
        "id": "WvNkClWlphjL"
      }
    },
    {
      "cell_type": "code",
      "source": [
        "t=(1,2,3,4)\n",
        "print(t)\n",
        "type(t)"
      ],
      "metadata": {
        "colab": {
          "base_uri": "https://localhost:8080/"
        },
        "id": "hheBX-Ogl4JH",
        "outputId": "e30d0561-7175-4c26-e8af-2af9ba067558"
      },
      "execution_count": 528,
      "outputs": [
        {
          "output_type": "stream",
          "name": "stdout",
          "text": [
            "(1, 2, 3, 4)\n"
          ]
        },
        {
          "output_type": "execute_result",
          "data": {
            "text/plain": [
              "tuple"
            ]
          },
          "metadata": {},
          "execution_count": 528
        }
      ]
    },
    {
      "cell_type": "markdown",
      "source": [
        "### **Elemanlara Erişmek**"
      ],
      "metadata": {
        "id": "tVa5pRICpnsl"
      }
    },
    {
      "cell_type": "code",
      "source": [
        "print(t[0])\n",
        "print(t[-1])"
      ],
      "metadata": {
        "colab": {
          "base_uri": "https://localhost:8080/"
        },
        "id": "8pTELBoVnrSm",
        "outputId": "02fafe3d-f08c-45e4-94b7-31df7da9a1d2"
      },
      "execution_count": 529,
      "outputs": [
        {
          "output_type": "stream",
          "name": "stdout",
          "text": [
            "1\n",
            "4\n"
          ]
        }
      ]
    },
    {
      "cell_type": "code",
      "source": [
        "# t[0]=5"
      ],
      "metadata": {
        "id": "ZiP9Y7Xkn8hs"
      },
      "execution_count": 530,
      "outputs": []
    },
    {
      "cell_type": "code",
      "source": [
        "t=list(t)\n",
        "print(t)\n",
        "type(t)"
      ],
      "metadata": {
        "colab": {
          "base_uri": "https://localhost:8080/"
        },
        "id": "-p0Wbh3doBh7",
        "outputId": "a8536d34-35e2-45cc-cb37-f5b4cdc11c99"
      },
      "execution_count": 531,
      "outputs": [
        {
          "output_type": "stream",
          "name": "stdout",
          "text": [
            "[1, 2, 3, 4]\n"
          ]
        },
        {
          "output_type": "execute_result",
          "data": {
            "text/plain": [
              "list"
            ]
          },
          "metadata": {},
          "execution_count": 531
        }
      ]
    },
    {
      "cell_type": "code",
      "source": [
        "t2=t,(5,6,7)\n",
        "print(t2)"
      ],
      "metadata": {
        "colab": {
          "base_uri": "https://localhost:8080/"
        },
        "id": "cnZyHwEQoNdu",
        "outputId": "b99b45f6-0a6e-436a-a9f0-2df1c3576219"
      },
      "execution_count": 532,
      "outputs": [
        {
          "output_type": "stream",
          "name": "stdout",
          "text": [
            "([1, 2, 3, 4], (5, 6, 7))\n"
          ]
        }
      ]
    },
    {
      "cell_type": "code",
      "source": [
        "t3=1,2,3\n",
        "type(t3)"
      ],
      "metadata": {
        "colab": {
          "base_uri": "https://localhost:8080/"
        },
        "id": "xHfSn5YOohxy",
        "outputId": "e9773e36-e85e-4243-c08a-c1f0af4ed5e6"
      },
      "execution_count": 533,
      "outputs": [
        {
          "output_type": "execute_result",
          "data": {
            "text/plain": [
              "tuple"
            ]
          },
          "metadata": {},
          "execution_count": 533
        }
      ]
    },
    {
      "cell_type": "markdown",
      "source": [
        "## **Kümeler (Set)**"
      ],
      "metadata": {
        "id": "GYfeGxtbpcPC"
      }
    },
    {
      "cell_type": "markdown",
      "source": [
        "### **Küme Oluşturma**"
      ],
      "metadata": {
        "id": "ybN1oMdsrily"
      }
    },
    {
      "cell_type": "code",
      "source": [
        "kume={1,2,3,4,5}\n",
        "print(kume)\n",
        "type(kume)"
      ],
      "metadata": {
        "colab": {
          "base_uri": "https://localhost:8080/"
        },
        "id": "ABojO9Gcoo8p",
        "outputId": "13756fca-0788-462b-970e-78b50c701907"
      },
      "execution_count": 534,
      "outputs": [
        {
          "output_type": "stream",
          "name": "stdout",
          "text": [
            "{1, 2, 3, 4, 5}\n"
          ]
        },
        {
          "output_type": "execute_result",
          "data": {
            "text/plain": [
              "set"
            ]
          },
          "metadata": {},
          "execution_count": 534
        }
      ]
    },
    {
      "cell_type": "code",
      "source": [
        "kume1=set(\"aaabbcc\")\n",
        "kume2={*\"bccddd\"}\n",
        "print(kume1)\n",
        "print(kume2)"
      ],
      "metadata": {
        "colab": {
          "base_uri": "https://localhost:8080/"
        },
        "id": "HDtOq1biqNQG",
        "outputId": "0e0f9f4d-5ded-4921-9063-3f8e7155a48a"
      },
      "execution_count": 535,
      "outputs": [
        {
          "output_type": "stream",
          "name": "stdout",
          "text": [
            "{'b', 'c', 'a'}\n",
            "{'b', 'c', 'd'}\n"
          ]
        }
      ]
    },
    {
      "cell_type": "markdown",
      "source": [
        "### **Fark işlemi**"
      ],
      "metadata": {
        "id": "FVRdnPlFroQt"
      }
    },
    {
      "cell_type": "code",
      "source": [
        "print(kume1-kume2)\n",
        "print(kume1.difference(kume2))"
      ],
      "metadata": {
        "colab": {
          "base_uri": "https://localhost:8080/"
        },
        "id": "L4Pf5exXqYAB",
        "outputId": "34fc3a2f-5031-4d69-d074-3c851345561b"
      },
      "execution_count": 536,
      "outputs": [
        {
          "output_type": "stream",
          "name": "stdout",
          "text": [
            "{'a'}\n",
            "{'a'}\n"
          ]
        }
      ]
    },
    {
      "cell_type": "markdown",
      "source": [
        "### **Kesişim işlemi**"
      ],
      "metadata": {
        "id": "vP4wIc4ZrtCW"
      }
    },
    {
      "cell_type": "code",
      "source": [
        "print(kume1 & kume2)\n",
        "print(kume2.intersection(kume1))"
      ],
      "metadata": {
        "colab": {
          "base_uri": "https://localhost:8080/"
        },
        "id": "wJVCEDNFq4Nz",
        "outputId": "df7d91ab-57b3-495b-afa6-3af506a4836f"
      },
      "execution_count": 537,
      "outputs": [
        {
          "output_type": "stream",
          "name": "stdout",
          "text": [
            "{'b', 'c'}\n",
            "{'b', 'c'}\n"
          ]
        }
      ]
    },
    {
      "cell_type": "markdown",
      "source": [
        "### **Birleşim işlemi**"
      ],
      "metadata": {
        "id": "31dpw3MRrzbg"
      }
    },
    {
      "cell_type": "code",
      "source": [
        "print(kume1.union(kume2))"
      ],
      "metadata": {
        "colab": {
          "base_uri": "https://localhost:8080/"
        },
        "id": "4svbNeNvrL_6",
        "outputId": "622dc840-4ecb-4523-fff6-42608faa7b11"
      },
      "execution_count": 538,
      "outputs": [
        {
          "output_type": "stream",
          "name": "stdout",
          "text": [
            "{'b', 'c', 'a', 'd'}\n"
          ]
        }
      ]
    },
    {
      "cell_type": "markdown",
      "source": [
        "# **Fonksiyonlar (Functions)**"
      ],
      "metadata": {
        "id": "MeoPI3qHvM7D"
      }
    },
    {
      "cell_type": "markdown",
      "source": [
        "### **Fonksiyon tanımlama ve çağırma**"
      ],
      "metadata": {
        "id": "PUkD4sDxwVmK"
      }
    },
    {
      "cell_type": "code",
      "source": [
        "def fonksiyon():\n",
        "  print(\"Bu bir fonksiyondur\")\n",
        "\n",
        "fonksiyon()"
      ],
      "metadata": {
        "colab": {
          "base_uri": "https://localhost:8080/"
        },
        "id": "ZC-Rixf6vTth",
        "outputId": "2b9568d3-3575-4c4d-f8bb-57518b5291fb"
      },
      "execution_count": 539,
      "outputs": [
        {
          "output_type": "stream",
          "name": "stdout",
          "text": [
            "Bu bir fonksiyondur\n"
          ]
        }
      ]
    },
    {
      "cell_type": "code",
      "source": [
        "def zamYap(maas,zam):\n",
        "  maas += zam\n",
        "  print(maas)\n",
        "\n",
        "zamYap(2000,1000)"
      ],
      "metadata": {
        "colab": {
          "base_uri": "https://localhost:8080/"
        },
        "id": "YnNYu0Z8wedk",
        "outputId": "086be8ea-6152-4763-836e-390b0c036123"
      },
      "execution_count": 540,
      "outputs": [
        {
          "output_type": "stream",
          "name": "stdout",
          "text": [
            "3000\n"
          ]
        }
      ]
    },
    {
      "cell_type": "markdown",
      "source": [
        "### **Ön Tanımlı Fonksiyonlar**"
      ],
      "metadata": {
        "id": "DrFEw_lBzAXC"
      }
    },
    {
      "cell_type": "code",
      "source": [
        "def zamYap(maas = 500,zam=1000):\n",
        "  maas += zam\n",
        "  print(maas)\n",
        "\n",
        "zamYap(zam=2000)"
      ],
      "metadata": {
        "colab": {
          "base_uri": "https://localhost:8080/"
        },
        "id": "WvFHzb7aw9Y8",
        "outputId": "2377b640-0209-4fe4-e009-ab23cb176bf0"
      },
      "execution_count": 541,
      "outputs": [
        {
          "output_type": "stream",
          "name": "stdout",
          "text": [
            "2500\n"
          ]
        }
      ]
    },
    {
      "cell_type": "markdown",
      "source": [
        "### **Return İfadesi**"
      ],
      "metadata": {
        "id": "v-QkxIBU0KgV"
      }
    },
    {
      "cell_type": "code",
      "source": [
        "bakiye=0\n",
        "\n",
        "def komisyonAl(yatirilanPara):\n",
        "  komisyon=yatirilanPara/100\n",
        "  kalanPara=yatirilanPara-komisyon\n",
        "  print(\"{} tl komisyon alınmıştır\".format(komisyon))\n",
        "  return kalanPara\n",
        "\n",
        "def paraYatir(para):\n",
        "  global bakiye\n",
        "  print(\"Para girişi : {} TL\".format(para))\n",
        "  netPara=komisyonAl(para)\n",
        "  bakiye+=netPara\n",
        "  print(\"yatırılan para : {} \".format(netPara))\n",
        "\n",
        "paraYatir(1000)"
      ],
      "metadata": {
        "colab": {
          "base_uri": "https://localhost:8080/"
        },
        "id": "Vxdle4F6xgml",
        "outputId": "97f811e0-3106-47fb-edae-095738b403b8"
      },
      "execution_count": 542,
      "outputs": [
        {
          "output_type": "stream",
          "name": "stdout",
          "text": [
            "Para girişi : 1000 TL\n",
            "10.0 tl komisyon alınmıştır\n",
            "yatırılan para : 990.0 \n"
          ]
        }
      ]
    },
    {
      "cell_type": "markdown",
      "source": [
        "# **Koşullu İfadeler (If-Else Statement)**"
      ],
      "metadata": {
        "id": "Q5cmnWID6mkE"
      }
    },
    {
      "cell_type": "code",
      "source": [
        "if (True):\n",
        "  print(\"koşul sağlandı\")"
      ],
      "metadata": {
        "colab": {
          "base_uri": "https://localhost:8080/"
        },
        "id": "PzBrVMsm1QFl",
        "outputId": "70a354c4-1168-4a17-c333-e06fb42513b2"
      },
      "execution_count": 543,
      "outputs": [
        {
          "output_type": "stream",
          "name": "stdout",
          "text": [
            "koşul sağlandı\n"
          ]
        }
      ]
    },
    {
      "cell_type": "code",
      "source": [
        "if (1 == 1):\n",
        "  print(\"koşul sağlandı\")\n",
        "else:\n",
        "  print(\"koşul sağlanmadı\")"
      ],
      "metadata": {
        "colab": {
          "base_uri": "https://localhost:8080/"
        },
        "id": "L5zkhzeu7gCd",
        "outputId": "fdb768e8-0c2b-4147-8b74-ca44d13e652f"
      },
      "execution_count": 544,
      "outputs": [
        {
          "output_type": "stream",
          "name": "stdout",
          "text": [
            "koşul sağlandı\n"
          ]
        }
      ]
    },
    {
      "cell_type": "code",
      "source": [
        "if(5 + 9 == 14):\n",
        "  print(\"Koşul sağlandı\")"
      ],
      "metadata": {
        "colab": {
          "base_uri": "https://localhost:8080/"
        },
        "id": "29DNG8QG7qDc",
        "outputId": "52d95069-3da6-48c2-b267-e4a93ab63ee2"
      },
      "execution_count": 545,
      "outputs": [
        {
          "output_type": "stream",
          "name": "stdout",
          "text": [
            "Koşul sağlandı\n"
          ]
        }
      ]
    },
    {
      "cell_type": "code",
      "source": [
        "sayi = 3\n",
        "if(sayi > 5):\n",
        "  print(\"sayi 5'ten büyüktür\")\n",
        "elif(sayi<5):\n",
        "  print(\"sayi 5'ten küçüktür\")\n",
        "else:\n",
        "  print(\"sayi 5'tir\")"
      ],
      "metadata": {
        "colab": {
          "base_uri": "https://localhost:8080/"
        },
        "id": "tBL4oNT174ke",
        "outputId": "39f29674-c456-4ba9-fa64-4ba0e1e4248b"
      },
      "execution_count": 546,
      "outputs": [
        {
          "output_type": "stream",
          "name": "stdout",
          "text": [
            "sayi 5'ten küçüktür\n"
          ]
        }
      ]
    },
    {
      "cell_type": "markdown",
      "source": [
        "# **Döngüler (For, While)**"
      ],
      "metadata": {
        "id": "ibh-Y_709Coa"
      }
    },
    {
      "cell_type": "markdown",
      "source": [
        "## **For Döngüsü**"
      ],
      "metadata": {
        "id": "HEimpExd99k2"
      }
    },
    {
      "cell_type": "code",
      "source": [
        "sehirler=[\"istanbul\",\"ankara\",\"malatya\",\"yozgat\"]\n",
        "\n",
        "for sehir in sehirler:\n",
        "  print(sehir) "
      ],
      "metadata": {
        "colab": {
          "base_uri": "https://localhost:8080/"
        },
        "id": "9IG-B7HD8ScR",
        "outputId": "806ec99e-8093-4223-ddec-9653d5cdf6b2"
      },
      "execution_count": 547,
      "outputs": [
        {
          "output_type": "stream",
          "name": "stdout",
          "text": [
            "istanbul\n",
            "ankara\n",
            "malatya\n",
            "yozgat\n"
          ]
        }
      ]
    },
    {
      "cell_type": "code",
      "source": [
        "sayilar=[*range(0,10,1)]\n",
        "print(sayilar)"
      ],
      "metadata": {
        "colab": {
          "base_uri": "https://localhost:8080/"
        },
        "id": "oBpYbDGx-MlC",
        "outputId": "1a310571-bdf8-438b-9ca1-53bd73d96712"
      },
      "execution_count": 548,
      "outputs": [
        {
          "output_type": "stream",
          "name": "stdout",
          "text": [
            "[0, 1, 2, 3, 4, 5, 6, 7, 8, 9]\n"
          ]
        }
      ]
    },
    {
      "cell_type": "code",
      "source": [
        "for sayi in range(10):\n",
        "  print(sayi)"
      ],
      "metadata": {
        "colab": {
          "base_uri": "https://localhost:8080/"
        },
        "id": "XntHIn1h-ZOW",
        "outputId": "f2255c4a-5a88-46e2-d959-548e335bdc89"
      },
      "execution_count": 549,
      "outputs": [
        {
          "output_type": "stream",
          "name": "stdout",
          "text": [
            "0\n",
            "1\n",
            "2\n",
            "3\n",
            "4\n",
            "5\n",
            "6\n",
            "7\n",
            "8\n",
            "9\n"
          ]
        }
      ]
    },
    {
      "cell_type": "code",
      "source": [
        "for sayi in range(10):\n",
        "  if (sayi%2==0):\n",
        "    print(sayi)"
      ],
      "metadata": {
        "colab": {
          "base_uri": "https://localhost:8080/"
        },
        "id": "ZWSY7R00-u_-",
        "outputId": "a28ac618-a6aa-42dd-ec9d-cca7af296d6e"
      },
      "execution_count": 550,
      "outputs": [
        {
          "output_type": "stream",
          "name": "stdout",
          "text": [
            "0\n",
            "2\n",
            "4\n",
            "6\n",
            "8\n"
          ]
        }
      ]
    },
    {
      "cell_type": "markdown",
      "source": [
        "## **While Döngüsü**"
      ],
      "metadata": {
        "id": "dJ665f-2_O0N"
      }
    },
    {
      "cell_type": "code",
      "source": [
        "sayac = 0\n",
        "limit = 10\n",
        "while(sayac<=limit):\n",
        "  print(sayac)\n",
        "  sayac+=1"
      ],
      "metadata": {
        "colab": {
          "base_uri": "https://localhost:8080/"
        },
        "id": "HEQXyFqx_Gyw",
        "outputId": "e0541f1d-c8c1-45ad-e821-7687ff04bf57"
      },
      "execution_count": 551,
      "outputs": [
        {
          "output_type": "stream",
          "name": "stdout",
          "text": [
            "0\n",
            "1\n",
            "2\n",
            "3\n",
            "4\n",
            "5\n",
            "6\n",
            "7\n",
            "8\n",
            "9\n",
            "10\n"
          ]
        }
      ]
    },
    {
      "cell_type": "markdown",
      "source": [
        "## **Break - Continue**"
      ],
      "metadata": {
        "id": "TXbBaxeXBFbO"
      }
    },
    {
      "cell_type": "code",
      "source": [
        "sehirler=[\"istanbul\",\"ankara\",\"malatya\",\"yozgat\"]\n",
        "\n",
        "for sehir in sehirler:\n",
        "  if (\"ala\" in sehir):\n",
        "    break\n",
        "  else:\n",
        "    print(sehir)"
      ],
      "metadata": {
        "colab": {
          "base_uri": "https://localhost:8080/"
        },
        "id": "_9rE-JkI_icP",
        "outputId": "09cf8832-2063-4496-98b7-b1e97259c703"
      },
      "execution_count": 552,
      "outputs": [
        {
          "output_type": "stream",
          "name": "stdout",
          "text": [
            "istanbul\n",
            "ankara\n"
          ]
        }
      ]
    },
    {
      "cell_type": "code",
      "source": [
        "for sehir in sehirler:\n",
        "  if (\"ala\" in sehir):\n",
        "    continue\n",
        "  else:\n",
        "    print(sehir)"
      ],
      "metadata": {
        "colab": {
          "base_uri": "https://localhost:8080/"
        },
        "id": "zbn47TeNBf85",
        "outputId": "ad6cf19e-d3c5-4bc6-e2ea-eb67e8cc3f4f"
      },
      "execution_count": 553,
      "outputs": [
        {
          "output_type": "stream",
          "name": "stdout",
          "text": [
            "istanbul\n",
            "ankara\n",
            "yozgat\n"
          ]
        }
      ]
    },
    {
      "cell_type": "markdown",
      "source": [
        "## **Enumerate**"
      ],
      "metadata": {
        "id": "f4ABMsUPCa2o"
      }
    },
    {
      "cell_type": "code",
      "source": [
        "sehirler=[\"istanbul\",\"ankara\",\"malatya\",\"yozgat\"]\n",
        "for index, sehir in enumerate(sehirler):\n",
        "  print(index, sehir)"
      ],
      "metadata": {
        "colab": {
          "base_uri": "https://localhost:8080/"
        },
        "id": "xRFLLLe9BmSJ",
        "outputId": "ac444f5d-ef33-4785-9d07-5ea795bfe5ad"
      },
      "execution_count": 554,
      "outputs": [
        {
          "output_type": "stream",
          "name": "stdout",
          "text": [
            "0 istanbul\n",
            "1 ankara\n",
            "2 malatya\n",
            "3 yozgat\n"
          ]
        }
      ]
    },
    {
      "cell_type": "markdown",
      "source": [
        "# **Elzem Fonksiyonlar**"
      ],
      "metadata": {
        "id": "-fCUWVsGDU1S"
      }
    },
    {
      "cell_type": "markdown",
      "source": [
        "## **zip()**"
      ],
      "metadata": {
        "id": "2yH2CDYOEOxA"
      }
    },
    {
      "cell_type": "code",
      "source": [
        "sehirler=[\"istanbul\",\"burdur\",\"malatya\",\"yozgat\"]\n",
        "plakalar=[34, 15, 44, 66]\n",
        "\n",
        "dict(zip(sehirler,plakalar))"
      ],
      "metadata": {
        "colab": {
          "base_uri": "https://localhost:8080/"
        },
        "id": "C-psdXLgCoIR",
        "outputId": "da209859-7915-489a-be67-a1800c7ae8e1"
      },
      "execution_count": 555,
      "outputs": [
        {
          "output_type": "execute_result",
          "data": {
            "text/plain": [
              "{'istanbul': 34, 'burdur': 15, 'malatya': 44, 'yozgat': 66}"
            ]
          },
          "metadata": {},
          "execution_count": 555
        }
      ]
    },
    {
      "cell_type": "markdown",
      "source": [
        "## **lambda**"
      ],
      "metadata": {
        "id": "bL-LgcJUEf47"
      }
    },
    {
      "cell_type": "code",
      "source": [
        "def topla(sayi1,sayi2,sayi3):\n",
        "  return sayi1 + sayi2 + sayi3\n",
        "  \n",
        "print(topla(2000,1000,500))"
      ],
      "metadata": {
        "colab": {
          "base_uri": "https://localhost:8080/"
        },
        "id": "qPD0OYZhEEM0",
        "outputId": "9407134a-f70b-465a-dabe-c2ab419504db"
      },
      "execution_count": 556,
      "outputs": [
        {
          "output_type": "stream",
          "name": "stdout",
          "text": [
            "3500\n"
          ]
        }
      ]
    },
    {
      "cell_type": "code",
      "source": [
        "topla2=lambda sayi1,sayi2,sayi3 : sayi1 + sayi2 + sayi3\n",
        "print(topla2(2000,1000,500))"
      ],
      "metadata": {
        "colab": {
          "base_uri": "https://localhost:8080/"
        },
        "id": "3H_T_JPgExwg",
        "outputId": "1bf1eb5c-c078-435a-e17f-46ce84f0f911"
      },
      "execution_count": 557,
      "outputs": [
        {
          "output_type": "stream",
          "name": "stdout",
          "text": [
            "3500\n"
          ]
        }
      ]
    },
    {
      "cell_type": "markdown",
      "source": [
        "## **map()**"
      ],
      "metadata": {
        "id": "yxsmxeHFQ21e"
      }
    },
    {
      "cell_type": "code",
      "source": [
        "sayilar=[1,2,3,4]\n",
        "\n",
        "def kareAl(sayi):\n",
        "  return sayi**2\n",
        "\n",
        "for sayi in sayilar:\n",
        "  print(kareAl(sayi))\n"
      ],
      "metadata": {
        "colab": {
          "base_uri": "https://localhost:8080/"
        },
        "id": "8CsOeNDGFR8y",
        "outputId": "c409e06d-064a-4956-a4b3-a299c991f8be"
      },
      "execution_count": 558,
      "outputs": [
        {
          "output_type": "stream",
          "name": "stdout",
          "text": [
            "1\n",
            "4\n",
            "9\n",
            "16\n"
          ]
        }
      ]
    },
    {
      "cell_type": "code",
      "source": [
        "list(map(kareAl,sayilar))"
      ],
      "metadata": {
        "colab": {
          "base_uri": "https://localhost:8080/"
        },
        "id": "LXURer6eFUXI",
        "outputId": "4bf460aa-f668-4685-ff59-c62d21cc610f"
      },
      "execution_count": 560,
      "outputs": [
        {
          "output_type": "execute_result",
          "data": {
            "text/plain": [
              "[1, 4, 9, 16]"
            ]
          },
          "metadata": {},
          "execution_count": 560
        }
      ]
    },
    {
      "cell_type": "markdown",
      "source": [
        "map() + lambda"
      ],
      "metadata": {
        "id": "KCEXDYgxSVFP"
      }
    },
    {
      "cell_type": "code",
      "source": [
        "list(map(lambda x:x**2, sayilar))"
      ],
      "metadata": {
        "colab": {
          "base_uri": "https://localhost:8080/"
        },
        "id": "SOjpDRdxSLxO",
        "outputId": "49a21888-cb07-4790-aff3-e30e05645eef"
      },
      "execution_count": 561,
      "outputs": [
        {
          "output_type": "execute_result",
          "data": {
            "text/plain": [
              "[1, 4, 9, 16]"
            ]
          },
          "metadata": {},
          "execution_count": 561
        }
      ]
    },
    {
      "cell_type": "markdown",
      "source": [
        "## **filter()**"
      ],
      "metadata": {
        "id": "Xil5s3I3RylA"
      }
    },
    {
      "cell_type": "code",
      "source": [
        "list(filter(lambda x:x%2==0,sayilar))"
      ],
      "metadata": {
        "colab": {
          "base_uri": "https://localhost:8080/"
        },
        "id": "ziEbExRTRbV1",
        "outputId": "6856b94b-2911-4e43-d2d4-df338a475630"
      },
      "execution_count": 562,
      "outputs": [
        {
          "output_type": "execute_result",
          "data": {
            "text/plain": [
              "[2, 4]"
            ]
          },
          "metadata": {},
          "execution_count": 562
        }
      ]
    },
    {
      "cell_type": "markdown",
      "source": [
        "# **List Comprehension**"
      ],
      "metadata": {
        "id": "UfLhUnbaTWKy"
      }
    },
    {
      "cell_type": "code",
      "source": [
        "sayilar=[1,2,3,4,5,6,7,8,9]\n",
        "\n",
        "tekSayilar=[sayi for sayi in sayilar if sayi%2!=0]\n",
        "print(tekSayilar)"
      ],
      "metadata": {
        "colab": {
          "base_uri": "https://localhost:8080/"
        },
        "id": "ESFzy1oKTEh6",
        "outputId": "9c7feecd-bfcd-4815-8a05-11e201c49076"
      },
      "execution_count": 565,
      "outputs": [
        {
          "output_type": "stream",
          "name": "stdout",
          "text": [
            "[1, 3, 5, 7, 9]\n"
          ]
        }
      ]
    },
    {
      "cell_type": "code",
      "source": [
        "ciftBirTekSifir=[1 if sayi%2==0 else 0 for sayi in sayilar]\n",
        "print(ciftBirTekSifir)"
      ],
      "metadata": {
        "colab": {
          "base_uri": "https://localhost:8080/"
        },
        "id": "jMMAcXBgUdRy",
        "outputId": "866a50d9-fd27-4c62-8dd3-98563b627d06"
      },
      "execution_count": 568,
      "outputs": [
        {
          "output_type": "stream",
          "name": "stdout",
          "text": [
            "[0, 1, 0, 1, 0, 1, 0, 1, 0]\n"
          ]
        }
      ]
    },
    {
      "cell_type": "markdown",
      "source": [
        "# **Dict Comprehension**"
      ],
      "metadata": {
        "id": "Jf0BfVTbTjVK"
      }
    },
    {
      "cell_type": "code",
      "source": [
        "sehirler = {\"istanbul\" : 34,\n",
        "         \"malatya\" : 44,\n",
        "         \"diyarbakir\" : 21,\n",
        "         \"yozgat\" : 66}\n",
        "\n",
        "yeniDict={k.capitalize(): v*2 for (k, v) in sehirler.items()}\n",
        "print(yeniDict)"
      ],
      "metadata": {
        "colab": {
          "base_uri": "https://localhost:8080/"
        },
        "id": "DGHNBwG4TmRC",
        "outputId": "6fc7af41-5120-44f7-b6fa-262847874102"
      },
      "execution_count": 570,
      "outputs": [
        {
          "output_type": "stream",
          "name": "stdout",
          "text": [
            "{'Istanbul': 68, 'Malatya': 88, 'Diyarbakir': 42, 'Yozgat': 132}\n"
          ]
        }
      ]
    }
  ]
}